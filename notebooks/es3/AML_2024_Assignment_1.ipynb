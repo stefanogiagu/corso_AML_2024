{
  "nbformat": 4,
  "nbformat_minor": 0,
  "metadata": {
    "colab": {
      "provenance": [],
      "authorship_tag": "ABX9TyMHeMLV9+rG1eangf810ytb",
      "include_colab_link": true
    },
    "kernelspec": {
      "name": "python3",
      "display_name": "Python 3"
    },
    "language_info": {
      "name": "python"
    }
  },
  "cells": [
    {
      "cell_type": "markdown",
      "metadata": {
        "id": "view-in-github",
        "colab_type": "text"
      },
      "source": [
        "<a href=\"https://colab.research.google.com/github/stefanogiagu/corso_AML_2024/blob/main/notebooks/es3/AML_2024_Assignment_1.ipynb\" target=\"_parent\"><img src=\"https://colab.research.google.com/assets/colab-badge.svg\" alt=\"Open In Colab\"/></a>"
      ]
    },
    {
      "cell_type": "markdown",
      "source": [
        "# Exercise 1\n",
        "\n",
        "Using the models discussed during the Hands-On 3, write a notebook containig the following points:\n",
        "\n",
        "If you can't use a GPU on colab, you can download my trained weigths for the supervised model [HERE](https://drive.google.com/file/d/1-1m5ZSmrSQjHHgT8WWITpxi3ZWLNsWXh/view?usp=drive_link)\n",
        "And for the unsupervised model [HERE](https://drive.google.com/file/d/1_MtLy2qXOBisNV0r4Y1FnVsclc9n6cvY/view?usp=drive_link)\n",
        "\n",
        "You can retrain and improve the base model, and you will obtain better results; however, **you are not graded based on the performance reached** by your model (so don't overuse the GPU to gain a 1% more in accuracy).\n",
        "\n",
        "\n",
        "\n",
        "1.   Split the dataset into train/test/validation with an 80/20/20 split.\n",
        "\n",
        "\n",
        "> If you are using the trained model, you must also use the same data split it was trained with or you may have a leakage problem.\n",
        "\n",
        "\n",
        "2.   Train the supervised model on the train set. Test the model on the test set and print a ROC curve (compute the area under the ROC curve (AUC) for each class) and a confusion matrix. You can use the trained model if the GPU is not available.\n",
        "\n",
        "3. Train the unsupervised model with Barlow Twins. Take the representations learned using Barlow Twins for all. Remember to use the base model output and not the projection head. The space plotted in the hands-on comes from the projection head.\n",
        "\n",
        "4. Using the validation set train a simple classifier (i.e a K-NN or logistic regression) then test the model on the test set. Plot the ROC curves and the consusion matrix.\n",
        "\n",
        "5. Compare the performance of the supervised and unsupervised ones (Barlow Twins + simple model).\n",
        "\n",
        "6. Repeat the training of the supervised model using as train data the validation set only to check the performance in case of limited data available (if needed, you can use a part of the original training set as validation for this task).\n",
        "\n",
        "Please, plot the ROCs curves for the supervised and unsupervised model on the same axis. Show the two consfusion matrices side to side.\n",
        "\n",
        "\n",
        "\n",
        "\n",
        "\n"
      ],
      "metadata": {
        "id": "_K5yRh9cB-T2"
      }
    },
    {
      "cell_type": "code",
      "source": [],
      "metadata": {
        "id": "TTZ2HBoGP0Bc"
      },
      "execution_count": null,
      "outputs": []
    }
  ]
}